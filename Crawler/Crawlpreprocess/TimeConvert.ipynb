{
 "cells": [
  {
   "cell_type": "code",
   "execution_count": null,
   "metadata": {},
   "outputs": [],
   "source": [
    "import pandas as pd\n",
    "\n",
    "data=pd.read_csv('combined.csv')\n",
    "\n",
    "# 提取出create_time列中2024年的数据\n",
    "data24=data[data['created_time'].str.contains('2024')]\n",
    "print(len(data24))\n",
    "\n",
    "data"
   ]
  },
  {
   "cell_type": "code",
   "execution_count": 5,
   "metadata": {},
   "outputs": [
    {
     "name": "stderr",
     "output_type": "stream",
     "text": [
      "C:\\Users\\name\\AppData\\Local\\Temp\\ipykernel_15892\\1626153219.py:20: SettingWithCopyWarning: \n",
      "A value is trying to be set on a copy of a slice from a DataFrame.\n",
      "Try using .loc[row_indexer,col_indexer] = value instead\n",
      "\n",
      "See the caveats in the documentation: https://pandas.pydata.org/pandas-docs/stable/user_guide/indexing.html#returning-a-view-versus-a-copy\n",
      "  df[['created_time', 'weekday']] = df['created_time'].apply(lambda x: pd.Series(convert_date_and_weekday(x)))\n",
      "C:\\Users\\name\\AppData\\Local\\Temp\\ipykernel_15892\\1626153219.py:20: SettingWithCopyWarning: \n",
      "A value is trying to be set on a copy of a slice from a DataFrame.\n",
      "Try using .loc[row_indexer,col_indexer] = value instead\n",
      "\n",
      "See the caveats in the documentation: https://pandas.pydata.org/pandas-docs/stable/user_guide/indexing.html#returning-a-view-versus-a-copy\n",
      "  df[['created_time', 'weekday']] = df['created_time'].apply(lambda x: pd.Series(convert_date_and_weekday(x)))\n"
     ]
    }
   ],
   "source": [
    "import pandas as pd\n",
    "from datetime import datetime\n",
    "\n",
    "df=data.copy()\n",
    "# 在内存中去除data\n",
    "data=None\n",
    "\n",
    "# 读取CSV文件\n",
    "# df = pd.read_csv('your_file.csv')\n",
    "\n",
    "# 定义一个函数来转换日期格式并返回星期几\n",
    "def convert_date_and_weekday(date_str):\n",
    "    # 将日期字符串转换为datetime对象\n",
    "    dt = datetime.strptime(date_str, '%a %b %d %H:%M:%S %z %Y')\n",
    "    # 将datetime对象格式化为目标格式\n",
    "    formatted_date = dt.strftime('%Y-%m-%d %H:%M:%S')\n",
    "    # 获取星期几的英文缩写\n",
    "    weekday = dt.strftime('%a')\n",
    "    return formatted_date, weekday\n",
    "\n",
    "# 应用转换函数到created_time列，并创建新的weekday列\n",
    "df[['created_time', 'weekday']] = df['created_time'].apply(lambda x: pd.Series(convert_date_and_weekday(x)))\n",
    "\n",
    "# 保存修改后的数据到新的CSV文件\n",
    "df.to_csv('converted_file.csv', index=False,encoding='utf-8-sig')\n"
   ]
  },
  {
   "cell_type": "code",
   "execution_count": null,
   "metadata": {},
   "outputs": [],
   "source": []
  }
 ],
 "metadata": {
  "kernelspec": {
   "display_name": "Python 3",
   "language": "python",
   "name": "python3"
  },
  "language_info": {
   "codemirror_mode": {
    "name": "ipython",
    "version": 3
   },
   "file_extension": ".py",
   "mimetype": "text/x-python",
   "name": "python",
   "nbconvert_exporter": "python",
   "pygments_lexer": "ipython3",
   "version": "undefined.undefined.undefined"
  }
 },
 "nbformat": 4,
 "nbformat_minor": 2
}
