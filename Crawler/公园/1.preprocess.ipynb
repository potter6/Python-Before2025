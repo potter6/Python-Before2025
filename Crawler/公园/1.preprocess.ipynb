{
 "cells": [
  {
   "cell_type": "code",
   "execution_count": 5,
   "metadata": {},
   "outputs": [],
   "source": [
    "import pandas as pd\n",
    "\n",
    "data=pd.read_csv('Input\\上海含签到人数的POI.csv')\n",
    "# 删除check列为空的行\n",
    "data=data[data['check'].notnull()]\n",
    "# 提取出check当中的数字，生成新列 visit_num\n",
    "data['visit_num']=data['check'].str.extract('(\\d+)',expand=False).astype(int)\n",
    "\n",
    "data.to_csv('Output\\上海含签到人数的POI_processed.csv',index=False,encoding='utf-8-sig')"
   ]
  },
  {
   "cell_type": "code",
   "execution_count": 6,
   "metadata": {},
   "outputs": [],
   "source": [
    "import pandas as pd\n",
    "\n",
    "data=pd.read_csv('D:\\Code\\Python\\PaChong\\公园\\Output\\外环公园_筛选_访客数据.csv')\n",
    "data.to_csv('D:\\Code\\Python\\PaChong\\公园\\Output\\外环公园_筛选_访客数据.csv',index=False,encoding='utf-8-sig')"
   ]
  },
  {
   "cell_type": "code",
   "execution_count": null,
   "metadata": {},
   "outputs": [],
   "source": []
  }
 ],
 "metadata": {
  "kernelspec": {
   "display_name": "Python 3",
   "language": "python",
   "name": "python3"
  },
  "language_info": {
   "codemirror_mode": {
    "name": "ipython",
    "version": 3
   },
   "file_extension": ".py",
   "mimetype": "text/x-python",
   "name": "python",
   "nbconvert_exporter": "python",
   "pygments_lexer": "ipython3",
   "version": "3.9.19"
  }
 },
 "nbformat": 4,
 "nbformat_minor": 2
}
