{
 "cells": [
  {
   "attachments": {},
   "cell_type": "markdown",
   "metadata": {},
   "source": [
    "### https://www.cnblogs.com/Vicrooor/p/17708119.html   ————来源"
   ]
  },
  {
   "cell_type": "code",
   "execution_count": null,
   "metadata": {},
   "outputs": [],
   "source": [
    "import cv2\n",
    "import numpy as np\n",
    "import math\n",
    "\n",
    "# 定义鱼眼转换函数\n",
    "\n",
    "\n",
    "def transform(img):\n",
    "    rows, cols, c = img.shape\n",
    "    R = int(cols/2/math.pi)\n",
    "    D = R*2\n",
    "    cx = R\n",
    "    cy = R\n",
    "    print(rows, cols, c, R, D, cx, cy)\n",
    "    new_img = np.zeros((D, D, c), dtype=np.uint8)\n",
    "    new_img1 = np.zeros((D, D, c), dtype=np.uint8)\n",
    "    for i in range(D):\n",
    "        for j in range(D):\n",
    "            r = math.sqrt((i-cx)**2+(j-cy)**2)\n",
    "            if r > R:\n",
    "                continue\n",
    "            tan_inv = np.arctan((j-cy)/(i-cx+1e-10))\n",
    "            if (i < cx):\n",
    "                theta = math.pi/2+tan_inv\n",
    "            else:\n",
    "                theta = math.pi*3/2+tan_inv\n",
    "            xp = int(np.floor(theta/2/math.pi*cols))\n",
    "            yp = int(np.floor(r/R*rows)-1)\n",
    "            new_img[j, i] = img[yp, xp]\n",
    "    return new_img\n",
    "\n",
    "\n",
    "# 对上一步得到的拼接照片进行遍历，转换为鱼眼照片\n",
    "for n in range(0, 30):\n",
    "    print('The No.{} coordinate is handling'.format(n))\n",
    "    general_path = 'dir/images_joint/{}.jpg'.format(n)  # 替换为自己的路径\n",
    "    try:\n",
    "        img = cv2.imread(general_path)  # 读取原始图片\n",
    "    except FileNotFoundError:\n",
    "        print(\"No.{} coordinate is missing\".format(n))\n",
    "\n",
    "    try:\n",
    "        img = transform(img)  # 转换原始图片\n",
    "        cv2.imwrite('dir/image_fisheye/{}.jpg'.format(n), img)  # 替换为自己的路径\n",
    "    except AttributeError:\n",
    "        print(\"No.{} coordinate is missing\".format(n))\n",
    "        pass\n"
   ]
  }
 ],
 "metadata": {
  "kernelspec": {
   "display_name": "Python 3",
   "language": "python",
   "name": "python3"
  },
  "language_info": {
   "codemirror_mode": {
    "name": "ipython",
    "version": 3
   },
   "file_extension": ".py",
   "mimetype": "text/x-python",
   "name": "python",
   "nbconvert_exporter": "python",
   "pygments_lexer": "ipython3",
   "version": "3.9.16"
  },
  "orig_nbformat": 4
 },
 "nbformat": 4,
 "nbformat_minor": 2
}
