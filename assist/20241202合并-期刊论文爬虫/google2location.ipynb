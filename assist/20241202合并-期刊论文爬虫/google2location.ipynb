{
 "cells": [
  {
   "cell_type": "code",
   "execution_count": null,
   "metadata": {},
   "outputs": [],
   "source": [
    "import requests\n",
    "import pandas as pd\n",
    "\n",
    "def get_geocode(address, api_key):\n",
    "    # 构建请求URL\n",
    "    url = f\"https://maps.googleapis.com/maps/api/geocode/json?address={address}&key={api_key}\"\n",
    "    \n",
    "    # 发送请求\n",
    "    response = requests.get(url)\n",
    "    \n",
    "    # 检查响应状态码\n",
    "    if response.status_code != 200:\n",
    "        return None\n",
    "    \n",
    "    # 解析JSON响应\n",
    "    data = response.json()\n",
    "    \n",
    "    # 检查结果状态\n",
    "    if data['status'] != 'OK':\n",
    "        return None\n",
    "    \n",
    "    # 提取经纬度信息\n",
    "    location = data['results'][0]['geometry']['location']\n",
    "    latitude = location['lat']\n",
    "    longitude = location['lng']\n",
    "    \n",
    "    return latitude, longitude\n",
    "\n",
    "# 输入你的Google API密钥\n",
    "api_key = \"YOUR_API_KEY\"\n",
    "data=pd.read_csv(r\"output\\2006_21-23_result.xlsx\")\n",
    "\n",
    "for i in range (len(data)):\n",
    "    # 输入地址，从excel的addresses列\n",
    "    address=data['addresses'][i]\n",
    "    print(f\"正在获取地址 {address} 的经纬度...\")\n",
    "\n",
    "    # 获取经纬度\n",
    "    geocode = get_geocode(address, api_key)\n",
    "    print(geocode)\n",
    "    # 将经纬度输出到数据当中\n",
    "    data.loc[i, 'latitude'] = geocode[0]\n",
    "    data.loc[i, 'longitude'] = geocode[1]\n",
    "\n",
    "    if geocode:\n",
    "        print(f\"纬度: {geocode[0]}, 经度: {geocode[1]}\")\n",
    "    else:\n",
    "        print(\"无法获取经纬度信息，请检查地址是否正确或API密钥是否有效。\")\n"
   ]
  },
  {
   "cell_type": "code",
   "execution_count": null,
   "metadata": {},
   "outputs": [],
   "source": []
  }
 ],
 "metadata": {
  "kernelspec": {
   "display_name": "Python 3",
   "language": "python",
   "name": "python3"
  },
  "language_info": {
   "codemirror_mode": {
    "name": "ipython",
    "version": 3
   },
   "file_extension": ".py",
   "mimetype": "text/x-python",
   "name": "python",
   "nbconvert_exporter": "python",
   "pygments_lexer": "ipython3",
   "version": "3.9.19"
  }
 },
 "nbformat": 4,
 "nbformat_minor": 2
}
