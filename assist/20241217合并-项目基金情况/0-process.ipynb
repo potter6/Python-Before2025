{
 "cells": [
  {
   "cell_type": "markdown",
   "metadata": {},
   "source": [
    "### 读取word的每行，生成excel文件"
   ]
  },
  {
   "cell_type": "markdown",
   "metadata": {},
   "source": [
    "除了题目外"
   ]
  },
  {
   "cell_type": "code",
   "execution_count": 22,
   "metadata": {},
   "outputs": [
    {
     "name": "stdout",
     "output_type": "stream",
     "text": [
      "表格已成功保存为 Output.xlsx 文件\n"
     ]
    }
   ],
   "source": [
    "import os\n",
    "from docx import Document\n",
    "import pandas as pd\n",
    "\n",
    "# 定义输入文件夹路径\n",
    "input_folder = 'Input'\n",
    "\n",
    "# 初始化一个列表来存储所有项目的信息\n",
    "projects = []\n",
    "\n",
    "# 遍历输入文件夹中的所有文件\n",
    "for filename in os.listdir(input_folder):\n",
    "    if filename.endswith('.docx'):\n",
    "        filepath = os.path.join(input_folder, filename)\n",
    "        doc = Document(filepath)\n",
    "        \n",
    "        title = \"\"\n",
    "        principal = \"\"\n",
    "        institution = \"\"\n",
    "        start_year = \"\"\n",
    "        funding_amount = \"\"\n",
    "        funding_category = \"\"\n",
    "        current_project = None\n",
    "        \n",
    "        # 逐段读取文档内容\n",
    "        for paragraph in doc.paragraphs:\n",
    "            text = paragraph.text.strip()\n",
    "            \n",
    "            if text.startswith('资助金额：'):\n",
    "                funding_amount = text.split('：')[1].strip()\n",
    "                continue\n",
    "            \n",
    "            if text.startswith('资助类别：'):\n",
    "                funding_category = text.split('：')[1].strip()\n",
    "                if current_project:\n",
    "                    projects.append(current_project)\n",
    "                current_project = {\n",
    "                    '题目': title,\n",
    "                    '负责人': principal,\n",
    "                    '依托单位': institution,\n",
    "                    '立项年份': start_year,\n",
    "                    '资助金额': funding_amount,\n",
    "                    '资助类别': funding_category\n",
    "                }\n",
    "            elif text.startswith('负责人：'):\n",
    "                principal = text.split('：')[1].strip()\n",
    "            elif text.startswith('依托单位：'):\n",
    "                institution = text.split('：')[1].strip()\n",
    "            elif text.startswith('立项年份：'):\n",
    "                start_year = text.split('：')[1].strip()\n",
    "            else:\n",
    "                # 如果当前没有项目信息，假设这是题目\n",
    "                if not current_project:\n",
    "                    title = text\n",
    "        \n",
    "        # 如果最后一个项目没有被添加，添加到列表中\n",
    "        if current_project:\n",
    "            projects.append(current_project)\n",
    "\n",
    "# 创建DataFrame对象\n",
    "df = pd.DataFrame(projects)\n",
    "\n",
    "# 将DataFrame保存为Excel文件\n",
    "df.to_excel('Output.xlsx', index=False)\n",
    "\n",
    "print(\"表格已成功保存为 Output.xlsx 文件\")\n"
   ]
  },
  {
   "cell_type": "code",
   "execution_count": 23,
   "metadata": {},
   "outputs": [
    {
     "name": "stdout",
     "output_type": "stream",
     "text": [
      "表格已成功保存为 Output.xlsx 文件\n"
     ]
    }
   ],
   "source": [
    "import os\n",
    "from docx import Document\n",
    "import pandas as pd\n",
    "\n",
    "# 定义输入文件夹路径\n",
    "input_folder = 'Input'\n",
    "\n",
    "# 初始化一个列表来存储所有项目的信息\n",
    "projects = []\n",
    "\n",
    "# 遍历输入文件夹中的所有文件\n",
    "for filename in os.listdir(input_folder):\n",
    "    if filename.endswith('.docx'):\n",
    "        filepath = os.path.join(input_folder, filename)\n",
    "        doc = Document(filepath)\n",
    "        \n",
    "        title = \"\"\n",
    "        principal = \"\"\n",
    "        institution = \"\"\n",
    "        start_year = \"\"\n",
    "        funding_amount = \"\"\n",
    "        funding_category = \"\"\n",
    "        current_project = None\n",
    "        \n",
    "        # 逐段读取文档内容\n",
    "        for paragraph in doc.paragraphs:\n",
    "            text = paragraph.text.strip()\n",
    "            \n",
    "            if text.startswith('资助金额：'):\n",
    "                funding_amount = text.split('：')[1].strip()\n",
    "                continue\n",
    "            \n",
    "            if text.startswith('资助类别：'):\n",
    "                funding_category = text.split('：')[1].strip()\n",
    "                if current_project:\n",
    "                    projects.append(current_project)\n",
    "                current_project = {\n",
    "                    '题目': title,\n",
    "                    '负责人': principal,\n",
    "                    '依托单位': institution,\n",
    "                    '立项年份': start_year,\n",
    "                    '资助金额': funding_amount,\n",
    "                    '资助类别': funding_category\n",
    "                }\n",
    "            elif text.startswith('负责人：'):\n",
    "                principal = text.split('：')[1].strip()\n",
    "            elif text.startswith('依托单位：'):\n",
    "                institution = text.split('：')[1].strip()\n",
    "            elif text.startswith('立项年份：'):\n",
    "                start_year = text.split('：')[1].strip()\n",
    "            else:\n",
    "                # 如果当前没有项目信息，假设这是题目\n",
    "                if not current_project:\n",
    "                    title = text\n",
    "        \n",
    "        # 如果最后一个项目没有被添加，添加到列表中\n",
    "        if current_project:\n",
    "            projects.append(current_project)\n",
    "\n",
    "# 创建DataFrame对象\n",
    "df = pd.DataFrame(projects)\n",
    "\n",
    "# 将DataFrame保存为Excel文件\n",
    "df.to_excel('Output.xlsx', index=False)\n",
    "\n",
    "print(\"表格已成功保存为 Output.xlsx 文件\")\n"
   ]
  },
  {
   "cell_type": "markdown",
   "metadata": {},
   "source": [
    "题目"
   ]
  },
  {
   "cell_type": "code",
   "execution_count": 24,
   "metadata": {},
   "outputs": [
    {
     "name": "stdout",
     "output_type": "stream",
     "text": [
      "题目已成功保存为 Titles_Output.xlsx 文件\n"
     ]
    }
   ],
   "source": [
    "import os\n",
    "from docx import Document\n",
    "import pandas as pd\n",
    "\n",
    "# 定义输入文件夹路径\n",
    "input_folder = 'Input'\n",
    "\n",
    "# 初始化一个列表来存储题目\n",
    "titles = []\n",
    "\n",
    "# 遍历输入文件夹中的所有文件\n",
    "for filename in os.listdir(input_folder):\n",
    "    if filename.endswith('.docx'):\n",
    "        filepath = os.path.join(input_folder, filename)\n",
    "        doc = Document(filepath)\n",
    "\n",
    "        # 遍历文档中的段落\n",
    "        for i, paragraph in enumerate(doc.paragraphs):\n",
    "            text = paragraph.text.strip()\n",
    "\n",
    "            # 检查是否是项目编号\n",
    "            if text.startswith('项目编号：'):\n",
    "                # 如果找到项目编号，检查下一段作为题目\n",
    "                if i + 1 < len(doc.paragraphs):\n",
    "                    next_title = doc.paragraphs[i + 1].text.strip()\n",
    "                    if next_title:  # 确保下一行不为空\n",
    "                        titles.append(next_title)\n",
    "\n",
    "# 将题目保存为DataFrame\n",
    "df = pd.DataFrame(titles, columns=['题目'])\n",
    "\n",
    "# 将DataFrame保存为Excel文件\n",
    "df.to_excel('Titles_Output.xlsx', index=False)\n",
    "\n",
    "print(\"题目已成功保存为 Titles_Output.xlsx 文件\")\n"
   ]
  },
  {
   "cell_type": "code",
   "execution_count": null,
   "metadata": {},
   "outputs": [],
   "source": []
  }
 ],
 "metadata": {
  "kernelspec": {
   "display_name": "Python 3",
   "language": "python",
   "name": "python3"
  },
  "language_info": {
   "codemirror_mode": {
    "name": "ipython",
    "version": 3
   },
   "file_extension": ".py",
   "mimetype": "text/x-python",
   "name": "python",
   "nbconvert_exporter": "python",
   "pygments_lexer": "ipython3",
   "version": "3.9.19"
  }
 },
 "nbformat": 4,
 "nbformat_minor": 2
}
